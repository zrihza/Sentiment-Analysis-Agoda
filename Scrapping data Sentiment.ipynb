{
 "cells": [
  {
   "cell_type": "code",
   "execution_count": 1,
   "metadata": {
    "colab": {
     "base_uri": "https://localhost:8080/"
    },
    "executionInfo": {
     "elapsed": 17083,
     "status": "ok",
     "timestamp": 1749996326406,
     "user": {
      "displayName": "Ihza Zhafran",
      "userId": "04580463849486476391"
     },
     "user_tz": -420
    },
    "id": "oq7IKAvnaPy7",
    "outputId": "87ab44a0-126c-4a40-8efe-fd597508f861"
   },
   "outputs": [
    {
     "name": "stdout",
     "output_type": "stream",
     "text": [
      "Collecting google-play-scraper\n",
      "  Downloading google_play_scraper-1.2.7-py3-none-any.whl.metadata (50 kB)\n",
      "Downloading google_play_scraper-1.2.7-py3-none-any.whl (28 kB)\n",
      "Installing collected packages: google-play-scraper\n",
      "Successfully installed google-play-scraper-1.2.7\n"
     ]
    }
   ],
   "source": [
    "!pip install google-play-scraper\n",
    "\n",
    "from google_play_scraper import reviews"
   ]
  },
  {
   "cell_type": "code",
   "execution_count": 3,
   "metadata": {
    "colab": {
     "base_uri": "https://localhost:8080/",
     "height": 206
    },
    "executionInfo": {
     "elapsed": 16672,
     "status": "ok",
     "timestamp": 1749996343071,
     "user": {
      "displayName": "Ihza Zhafran",
      "userId": "04580463849486476391"
     },
     "user_tz": -420
    },
    "id": "fkIlHsQW8o8K",
    "outputId": "320bf6da-b2ba-4faf-be93-3b90f63e9988"
   },
   "outputs": [
    {
     "data": {
      "text/html": [
       "<div>\n",
       "<style scoped>\n",
       "    .dataframe tbody tr th:only-of-type {\n",
       "        vertical-align: middle;\n",
       "    }\n",
       "\n",
       "    .dataframe tbody tr th {\n",
       "        vertical-align: top;\n",
       "    }\n",
       "\n",
       "    .dataframe thead th {\n",
       "        text-align: right;\n",
       "    }\n",
       "</style>\n",
       "<table border=\"1\" class=\"dataframe\">\n",
       "  <thead>\n",
       "    <tr style=\"text-align: right;\">\n",
       "      <th></th>\n",
       "      <th>content</th>\n",
       "      <th>score</th>\n",
       "    </tr>\n",
       "  </thead>\n",
       "  <tbody>\n",
       "    <tr>\n",
       "      <th>0</th>\n",
       "      <td>aplikasi nipu ! pesan hotel dibayar langsung i...</td>\n",
       "      <td>1</td>\n",
       "    </tr>\n",
       "    <tr>\n",
       "      <th>1</th>\n",
       "      <td>(1)Klo komplain ribet, hanya robot yg jawab, s...</td>\n",
       "      <td>1</td>\n",
       "    </tr>\n",
       "    <tr>\n",
       "      <th>2</th>\n",
       "      <td>Aplikasi gak jelas . pesanan dibayar gagal res...</td>\n",
       "      <td>1</td>\n",
       "    </tr>\n",
       "    <tr>\n",
       "      <th>3</th>\n",
       "      <td>hanya dilayani oleh bothchat tanpa ada tindak ...</td>\n",
       "      <td>1</td>\n",
       "    </tr>\n",
       "    <tr>\n",
       "      <th>4</th>\n",
       "      <td>aplikasi ini ngga sesuai diskon kalo di aplika...</td>\n",
       "      <td>1</td>\n",
       "    </tr>\n",
       "  </tbody>\n",
       "</table>\n",
       "</div>"
      ],
      "text/plain": [
       "                                             content  score\n",
       "0  aplikasi nipu ! pesan hotel dibayar langsung i...      1\n",
       "1  (1)Klo komplain ribet, hanya robot yg jawab, s...      1\n",
       "2  Aplikasi gak jelas . pesanan dibayar gagal res...      1\n",
       "3  hanya dilayani oleh bothchat tanpa ada tindak ...      1\n",
       "4  aplikasi ini ngga sesuai diskon kalo di aplika...      1"
      ]
     },
     "execution_count": 3,
     "metadata": {},
     "output_type": "execute_result"
    }
   ],
   "source": [
    "result, _ = reviews(\n",
    "    'com.agoda.mobile.consumer',  # Package name Agoda\n",
    "    lang='id',\n",
    "    country='id',\n",
    "    count=20000,\n",
    "    filter_score_with=None  # score (1–5)\n",
    ")\n",
    "\n",
    "import pandas as pd\n",
    "df = pd.DataFrame(result)\n",
    "df[['content', 'score']].head()"
   ]
  },
  {
   "cell_type": "code",
   "execution_count": 4,
   "metadata": {
    "colab": {
     "base_uri": "https://localhost:8080/"
    },
    "executionInfo": {
     "elapsed": 1014,
     "status": "ok",
     "timestamp": 1749996344091,
     "user": {
      "displayName": "Ihza Zhafran",
      "userId": "04580463849486476391"
     },
     "user_tz": -420
    },
    "id": "qcVeFDeL8Wqc",
    "outputId": "ff8f3c91-98cd-49b8-c8b0-b6f824937c2e"
   },
   "outputs": [
    {
     "name": "stdout",
     "output_type": "stream",
     "text": [
      "<class 'pandas.core.frame.DataFrame'>\n",
      "RangeIndex: 20000 entries, 0 to 19999\n",
      "Data columns (total 11 columns):\n",
      " #   Column                Non-Null Count  Dtype         \n",
      "---  ------                --------------  -----         \n",
      " 0   reviewId              20000 non-null  object        \n",
      " 1   userName              20000 non-null  object        \n",
      " 2   userImage             20000 non-null  object        \n",
      " 3   content               20000 non-null  object        \n",
      " 4   score                 20000 non-null  int64         \n",
      " 5   thumbsUpCount         20000 non-null  int64         \n",
      " 6   reviewCreatedVersion  15720 non-null  object        \n",
      " 7   at                    20000 non-null  datetime64[ns]\n",
      " 8   replyContent          13521 non-null  object        \n",
      " 9   repliedAt             13521 non-null  datetime64[ns]\n",
      " 10  appVersion            15720 non-null  object        \n",
      "dtypes: datetime64[ns](2), int64(2), object(7)\n",
      "memory usage: 1.7+ MB\n"
     ]
    }
   ],
   "source": [
    "df.info()\n",
    "df.to_csv('agoda_reviews.csv', index=False)"
   ]
  }
 ],
 "metadata": {
  "colab": {
   "authorship_tag": "ABX9TyN5ZAH0kh8d0XpkE7cEfD9E",
   "provenance": []
  },
  "kernelspec": {
   "display_name": "Python 3",
   "name": "python3"
  },
  "language_info": {
   "codemirror_mode": {
    "name": "ipython",
    "version": 3
   },
   "file_extension": ".py",
   "mimetype": "text/x-python",
   "name": "python",
   "nbconvert_exporter": "python",
   "pygments_lexer": "ipython3",
   "version": "3.13.5"
  }
 },
 "nbformat": 4,
 "nbformat_minor": 0
}
